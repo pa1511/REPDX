{
 "cells": [
  {
   "cell_type": "markdown",
   "metadata": {},
   "source": [
    "## Import"
   ]
  },
  {
   "cell_type": "code",
   "execution_count": null,
   "metadata": {
    "collapsed": true
   },
   "outputs": [],
   "source": [
    "#General\n",
    "import pandas as pd\n",
    "import numpy as np\n",
    "from numpy import std, mean, sqrt\n",
    "import math\n",
    "#Statistics\n",
    "from scipy.stats import mannwhitneyu\n",
    "#Visualization\n",
    "from matplotlib import pyplot as plt\n",
    "import matplotlib\n",
    "#Utility\n",
    "from tabulate import tabulate"
   ]
  },
  {
   "cell_type": "code",
   "execution_count": null,
   "metadata": {
    "collapsed": true
   },
   "outputs": [],
   "source": [
    "#Custom imports\n",
    "from stat_util import normal_test_all_model_samples\n",
    "from stat_util import t_test_model_samples_against_other_model_samples\n",
    "from stat_util import cohen_d_test_model_samples_against_other_model_samples"
   ]
  },
  {
   "cell_type": "markdown",
   "metadata": {},
   "source": [
    "## Dataset preparation"
   ]
  },
  {
   "cell_type": "code",
   "execution_count": null,
   "metadata": {
    "collapsed": true
   },
   "outputs": [],
   "source": [
    "source_datasets = [\n",
    "    \"JDT_R2_0\",\"JDT_R2_1\",\"JDT_R3_0\",\"JDT_R3_1\",\"JDT_R3_2\"\n",
    "]\n",
    "target_datasets = [\n",
    "    \"PDE_R2_0\",\"PDE_R2_1\",\"PDE_R3_0\",\"PDE_R3_1\",\"PDE_R3_2\"    \n",
    "]"
   ]
  },
  {
   "cell_type": "code",
   "execution_count": null,
   "metadata": {
    "collapsed": true
   },
   "outputs": [],
   "source": [
    "main_model_name = \"REPDX\""
   ]
  },
  {
   "cell_type": "code",
   "execution_count": null,
   "metadata": {
    "scrolled": true
   },
   "outputs": [],
   "source": [
    "main_df = None\n",
    "\n",
    "for source in source_datasets:\n",
    "    for target in target_datasets:\n",
    "        print(\"Analyzing: S \", source, \" T \", target)\n",
    "        results_df = pd.read_csv(\"results_share/cross_balance_\"+source+\"_\"+target)\n",
    "        #results_df = pd.read_csv(\"results_share/cross_hp_\"+source+\"_\"+target)\n",
    "        #\n",
    "        results_df.loc[results_df[\"Model\"]==\"OLD_REPD\", 'Model'] = \"REPD\"\n",
    "        results_df.loc[results_df[\"Model\"]==\"REPD_EX\", 'Model'] = \"REPDX\"\n",
    "        #\n",
    "        if main_df is None:\n",
    "            main_df = results_df\n",
    "        else: \n",
    "            main_df = pd.concat([main_df,results_df])"
   ]
  },
  {
   "cell_type": "code",
   "execution_count": null,
   "metadata": {
    "scrolled": false
   },
   "outputs": [],
   "source": [
    "from matplotlib.pyplot import figure\n",
    "figure(figsize=(16, 8))\n",
    "#\n",
    "\n",
    "shares = [0.2,0.3,0.4,0.5,0.6,0.7,0.8]\n",
    "for dataset in target_datasets:\n",
    "    vs = []\n",
    "    for share in shares:\n",
    "        v = main_df[(main_df[\"Target\"]==dataset) & (main_df[\"Model\"]==\"REPDX\") & (main_df[\"REPDShare\"]==share)][\"F1 score\"].mean()\n",
    "        vs.append(v)\n",
    "    #\n",
    "    plt.plot(shares, vs, label=dataset)\n",
    "plt.ylabel(\"F1\")\n",
    "plt.xlabel(\"REPD dataset share\")\n",
    "plt.legend()\n",
    "plt.savefig(\"share.pdf\")\n",
    "plt.show()"
   ]
  },
  {
   "cell_type": "code",
   "execution_count": null,
   "metadata": {
    "collapsed": true
   },
   "outputs": [],
   "source": []
  }
 ],
 "metadata": {
  "kernelspec": {
   "display_name": "Python 3",
   "language": "python",
   "name": "python3"
  },
  "language_info": {
   "codemirror_mode": {
    "name": "ipython",
    "version": 3
   },
   "file_extension": ".py",
   "mimetype": "text/x-python",
   "name": "python",
   "nbconvert_exporter": "python",
   "pygments_lexer": "ipython3",
   "version": "3.6.9"
  }
 },
 "nbformat": 4,
 "nbformat_minor": 2
}
