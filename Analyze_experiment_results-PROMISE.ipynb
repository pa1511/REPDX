{
 "cells": [
  {
   "cell_type": "markdown",
   "metadata": {},
   "source": [
    "## Import"
   ]
  },
  {
   "cell_type": "code",
   "execution_count": null,
   "metadata": {
    "collapsed": true
   },
   "outputs": [],
   "source": [
    "#General\n",
    "import pandas as pd\n",
    "import numpy as np\n",
    "from numpy import std, mean, sqrt\n",
    "import math\n",
    "#Statistics\n",
    "from scipy.stats import mannwhitneyu\n",
    "#Visualization\n",
    "from matplotlib import pyplot as plt\n",
    "import matplotlib\n",
    "#Utility\n",
    "from tabulate import tabulate"
   ]
  },
  {
   "cell_type": "code",
   "execution_count": null,
   "metadata": {
    "collapsed": true
   },
   "outputs": [],
   "source": [
    "#Custom imports\n",
    "from stat_util import normal_test_all_model_samples\n",
    "from stat_util import t_test_model_samples_against_other_model_samples\n",
    "from stat_util import cohen_d_test_model_samples_against_other_model_samples"
   ]
  },
  {
   "cell_type": "markdown",
   "metadata": {},
   "source": [
    "## Dataset preparation"
   ]
  },
  {
   "cell_type": "code",
   "execution_count": null,
   "metadata": {
    "collapsed": true
   },
   "outputs": [],
   "source": [
    "datasets = [\n",
    "    \"cm1\",\"jm1\",\"kc1\",\"kc2\",\"pc1\"\n",
    "]"
   ]
  },
  {
   "cell_type": "code",
   "execution_count": null,
   "metadata": {
    "collapsed": true
   },
   "outputs": [],
   "source": [
    "main_model_name = \"REPDX\""
   ]
  },
  {
   "cell_type": "code",
   "execution_count": null,
   "metadata": {
    "scrolled": false
   },
   "outputs": [],
   "source": [
    "main_df = None\n",
    "\n",
    "for dataset in datasets:\n",
    "    print(\"Analyzing:\", dataset)\n",
    "    results_df = pd.read_csv(\"results_promise/balance_\"+dataset)\n",
    "    #results_df = pd.read_csv(\"results_promise/hp_\"+dataset)\n",
    "    #results_df = pd.read_csv(\"results_promise/hr_\"+dataset)\n",
    "    results_df = results_df.assign(Dataset=lambda x: dataset)\n",
    "    #\n",
    "    #results_df.loc[results_df[\"Model\"]==\"OLD_REPD\", 'Model'] = \"REPD\"\n",
    "    #results_df.loc[results_df[\"Model\"]==\"REPD_EX\", 'Model'] = \"REPDX\"\n",
    "    #\n",
    "    if main_df is None:\n",
    "        main_df = results_df\n",
    "    else: \n",
    "        main_df = pd.concat([main_df,results_df])\n",
    "\n",
    "    #\n",
    "    #print(results_df[results_df[\"F1 score\"]==results_df[\"F1 score\"].max()][[\"Model\",\"F1 score\",\"Precision\",\"Recall\"]])\n",
    "    #print(results_df[results_df[\"Precision\"]==results_df[\"Precision\"].max()][[\"Model\",\"F1 score\",\"Precision\",\"Recall\"]])\n",
    "    #print(results_df[results_df[\"Recall\"]==results_df[\"Recall\"].max()][[\"Model\",\"F1 score\",\"Precision\",\"Recall\"]])\n",
    "    #print()\n",
    "    #\n",
    "    group_df = results_df \\\n",
    "                .drop(columns=['Accuracy', 'Accuracy base', 'Precision base', 'Recall base', 'F1 base score']) \\\n",
    "                .rename(index=str, columns={\"F1 score\": \"F1\"}) \\\n",
    "                .groupby([\"Model\"])\n",
    "    print(group_df[[\"F1\",\"Precision\",\"Recall\"]].median())\n",
    "    #print(group_df[\"Precision\"].median())\n",
    "    #print(group_df[\"Recall\"].median())\n",
    "    print()\n",
    "    #\n",
    "    #\n",
    "    #stat, p = mannwhitneyu(\n",
    "    #            results_df[results_df[\"Model\"]==\"REPDX\"][\"F1 score\"].values, \n",
    "    #            results_df[results_df[\"Model\"]==\"REPD\"][\"F1 score\"].values\n",
    "    #            )\n",
    "    #stat, p = mannwhitneyu(\n",
    "    #            results_df[results_df[\"Model\"]==\"REPDX\"][\"Precision\"].values, \n",
    "    #            results_df[results_df[\"Model\"]==\"REPD\"][\"Precision\"].values\n",
    "    #            )\n",
    "    #stat, p = mannwhitneyu(\n",
    "    #            results_df[results_df[\"Model\"]==\"REPDX\"][\"Recall\"].values, \n",
    "    #            results_df[results_df[\"Model\"]==\"REPD\"][\"Recall\"].values\n",
    "    #            )\n",
    "    #\n",
    "    #print('Statistics=%.3f, p=%.3f' % (stat, p))\n",
    "    #print()\n",
    "    # interpret\n",
    "    #alpha = 0.05\n",
    "    #if p > alpha:\n",
    "    #    print('Same distribution (fail to reject H0)')\n",
    "    #else:\n",
    "    #    print('Different distribution (reject H0)')\n",
    "    #print()\n",
    "    #print()\n"
   ]
  },
  {
   "cell_type": "code",
   "execution_count": null,
   "metadata": {
    "collapsed": true
   },
   "outputs": [],
   "source": [
    "group_df = main_df.drop(columns=['Accuracy', 'Accuracy base', 'Precision base', 'Recall base', 'F1 base score']).rename(index=str, columns={\"F1 score\": \"F1\"}).groupby([\"Dataset\",\"Model\"])"
   ]
  },
  {
   "cell_type": "code",
   "execution_count": null,
   "metadata": {},
   "outputs": [],
   "source": [
    "#print(group_df[[\"F1\"]].median().to_latex())\n",
    "#print(group_df[[\"Precision\"]].median().to_latex())\n",
    "print(group_df[[\"Recall\",\"Precision\"]].median().to_latex())\n",
    "\n"
   ]
  },
  {
   "cell_type": "code",
   "execution_count": null,
   "metadata": {
    "collapsed": true
   },
   "outputs": [],
   "source": [
    "import seaborn as sns"
   ]
  },
  {
   "cell_type": "code",
   "execution_count": null,
   "metadata": {
    "collapsed": true,
    "scrolled": false
   },
   "outputs": [],
   "source": [
    "font = {'size': 58}\n",
    "matplotlib.rc('font', **font)\n",
    "\n",
    "def plot_measure(measure_name,plot_name):\n",
    "    df = main_df.drop(columns=['Accuracy', 'Accuracy base', 'Precision base', 'Recall base', 'F1 base score'])\n",
    "    new_dfs = []\n",
    "\n",
    "    dataset_list = list(set(df.Dataset.values))\n",
    "    dataset_list.sort()\n",
    "\n",
    "    for n, dataset in enumerate(dataset_list):\n",
    "        new_df = []\n",
    "\n",
    "        for model in list(set(df.Model.values)):\n",
    "            f1_scores = []\n",
    "            temp = df.loc[(df['Dataset'] == dataset) & (df['Model'] == model)][measure_name].values\n",
    "            for value in temp:\n",
    "                d = {\n",
    "                    'DatasetModel' : '{: <26}'.format(\", \".join([dataset, model])), measure_name : value\n",
    "                }\n",
    "                new_df.append(d)\n",
    "\n",
    "        new_df = pd.DataFrame(new_df)\n",
    "        new_dfs.append(new_df)\n",
    "\n",
    "    #Plotting prepared dataset\n",
    "    fig, axs = plt.subplots(5, 1, figsize=(64,128), sharex=True, sharey=\"row\", gridspec_kw={'hspace': 0.1})\n",
    "\n",
    "    for n, new_df in enumerate(new_dfs):\n",
    "        dataset = dataset_list[n]\n",
    "        ax=axs[n]\n",
    "        sns.violinplot(measure_name,'DatasetModel', data=new_df, ax = ax, scale=\"count\", cut=0)\n",
    "        #\n",
    "        yax = ax.get_yaxis()\n",
    "        yax.grid(True)\n",
    "        yax.set_ticks_position('right')\n",
    "        pad = max([len(i) for i in new_df['DatasetModel'].values])\n",
    "        yax.set_tick_params(pad=pad)\n",
    "        y_label = yax.get_label()\n",
    "        y_label.set_visible(False)\n",
    "        #\n",
    "        xax = ax.get_xaxis()\n",
    "        xax.grid(True)\n",
    "        x_label = xax.get_label()\n",
    "        x_label.set_visible(False)\n",
    "        #\n",
    "        ax.set_title(\"\")\n",
    "\n",
    "    fig.suptitle(measure_name)\n",
    "    st = fig.suptitle(measure_name, fontsize=\"x-large\")\n",
    "    st.set_y(0.95)\n",
    "    fig.subplots_adjust(top=0.93)\n",
    "    fig.tight_layout()\n",
    "    plt.tight_layout()\n",
    "    plt.savefig(plot_name,format='pdf',bbox_inches='tight')\n",
    "    plt.show()"
   ]
  },
  {
   "cell_type": "code",
   "execution_count": null,
   "metadata": {
    "scrolled": false
   },
   "outputs": [],
   "source": [
    "plot_measure(\"F1 score\",\"promise-wp-hr-f1.pdf\")"
   ]
  },
  {
   "cell_type": "code",
   "execution_count": null,
   "metadata": {
    "scrolled": false
   },
   "outputs": [],
   "source": [
    "plot_measure(\"Precision\",\"promise-wp-hr-precision.pdf\")"
   ]
  },
  {
   "cell_type": "code",
   "execution_count": null,
   "metadata": {
    "scrolled": false
   },
   "outputs": [],
   "source": [
    "plot_measure(\"Recall\",\"promise-wp-hr-recall.pdf\")"
   ]
  },
  {
   "cell_type": "code",
   "execution_count": null,
   "metadata": {
    "collapsed": true
   },
   "outputs": [],
   "source": []
  },
  {
   "cell_type": "code",
   "execution_count": null,
   "metadata": {
    "collapsed": true
   },
   "outputs": [],
   "source": []
  }
 ],
 "metadata": {
  "kernelspec": {
   "display_name": "Python 3",
   "language": "python",
   "name": "python3"
  },
  "language_info": {
   "codemirror_mode": {
    "name": "ipython",
    "version": 3
   },
   "file_extension": ".py",
   "mimetype": "text/x-python",
   "name": "python",
   "nbconvert_exporter": "python",
   "pygments_lexer": "ipython3",
   "version": "3.6.9"
  }
 },
 "nbformat": 4,
 "nbformat_minor": 2
}
