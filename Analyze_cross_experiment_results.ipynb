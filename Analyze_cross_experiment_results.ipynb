{
 "cells": [
  {
   "cell_type": "markdown",
   "metadata": {},
   "source": [
    "## Import"
   ]
  },
  {
   "cell_type": "code",
   "execution_count": null,
   "metadata": {
    "collapsed": true
   },
   "outputs": [],
   "source": [
    "#General\n",
    "import pandas as pd\n",
    "import numpy as np\n",
    "from numpy import std, mean, sqrt\n",
    "import math\n",
    "#Statistics\n",
    "from scipy.stats import mannwhitneyu\n",
    "#Visualization\n",
    "from matplotlib import pyplot as plt\n",
    "import matplotlib\n",
    "#Utility\n",
    "from tabulate import tabulate"
   ]
  },
  {
   "cell_type": "code",
   "execution_count": null,
   "metadata": {
    "collapsed": true
   },
   "outputs": [],
   "source": [
    "#Custom imports\n",
    "from stat_util import normal_test_all_model_samples\n",
    "from stat_util import t_test_model_samples_against_other_model_samples\n",
    "from stat_util import cohen_d_test_model_samples_against_other_model_samples"
   ]
  },
  {
   "cell_type": "markdown",
   "metadata": {},
   "source": [
    "## Dataset preparation"
   ]
  },
  {
   "cell_type": "code",
   "execution_count": null,
   "metadata": {
    "collapsed": true
   },
   "outputs": [],
   "source": [
    "source_datasets = [\n",
    "    \"JDT_R2_0\",\"JDT_R2_1\",\"JDT_R3_0\",\"JDT_R3_1\",\"JDT_R3_2\"\n",
    "]\n",
    "target_datasets = [\n",
    "    \"PDE_R2_0\",\"PDE_R2_1\",\"PDE_R3_0\",\"PDE_R3_1\",\"PDE_R3_2\"    \n",
    "]"
   ]
  },
  {
   "cell_type": "code",
   "execution_count": null,
   "metadata": {
    "collapsed": true
   },
   "outputs": [],
   "source": [
    "main_model_name = \"REPDX\""
   ]
  },
  {
   "cell_type": "code",
   "execution_count": null,
   "metadata": {
    "scrolled": false
   },
   "outputs": [],
   "source": [
    "main_df = None\n",
    "\n",
    "for source in source_datasets:\n",
    "    for target in target_datasets:\n",
    "        print(\"Analyzing: S \", source, \" T \", target)\n",
    "        results_df = pd.read_csv(\"results_v2/cross_balance_\"+source+\"_\"+target)\n",
    "        #results_df = pd.read_csv(\"results_v2/cross_hp_\"+source+\"_\"+target)\n",
    "        #\n",
    "        results_df.loc[results_df[\"Model\"]==\"OLD_REPD\", 'Model'] = \"REPD\"\n",
    "        results_df.loc[results_df[\"Model\"]==\"REPD_EX\", 'Model'] = \"REPDX\"\n",
    "        #\n",
    "        #results_df = results_df[results_df[\"Model\"]!=\"REPD\"]\n",
    "        #\n",
    "        if main_df is None:\n",
    "            main_df = results_df\n",
    "        else: \n",
    "            main_df = pd.concat([main_df,results_df])\n",
    "\n",
    "        #\n",
    "        #print(results_df[results_df[\"F1 score\"]==results_df[\"F1 score\"].max()][[\"Model\",\"F1 score\",\"Precision\",\"Recall\"]])\n",
    "        #print(results_df[results_df[\"Precision\"]==results_df[\"Precision\"].max()][[\"Model\",\"F1 score\",\"Precision\",\"Recall\"]])\n",
    "        #print()\n",
    "        #\n",
    "        #group_df = results_df \\\n",
    "        #            .drop(columns=['Accuracy']) \\\n",
    "        #            .rename(index=str, columns={\"F1 score\": \"F1\"}) \\\n",
    "        #            .groupby([\"Source\",\"Target\",\"Model\"])\n",
    "        #print(group_df[\"F1\"].median())\n",
    "        #print()\n",
    "        #\n",
    "        #\n",
    "        stat, p = mannwhitneyu(\n",
    "                    results_df[results_df[\"Model\"]==\"REPDX\"][\"F1 score\"].values, \n",
    "                    results_df[results_df[\"Model\"]==\"TCA+\"][\"F1 score\"].values\n",
    "                    #results_df[results_df[\"Model\"]==\"REPD\"][\"F1 score\"].values\n",
    "                    )\n",
    "        #print('Statistics=%.3f, p=%.3f' % (stat, p))\n",
    "        alpha = 0.05\n",
    "        if p > alpha:\n",
    "            #print('Same distribution (fail to reject H0)')\n",
    "            print('NO')\n",
    "        else:\n",
    "            #print('Different distribution (reject H0)')\n",
    "            print('YES')\n",
    "        print()\n",
    "        #print()"
   ]
  },
  {
   "cell_type": "code",
   "execution_count": null,
   "metadata": {
    "collapsed": true
   },
   "outputs": [],
   "source": [
    "group_df = main_df.drop(columns=['Accuracy']).rename(index=str, columns={\"F1 score\": \"F1\"}).groupby([\"Source\", \"Target\", \"Model\"])"
   ]
  },
  {
   "cell_type": "code",
   "execution_count": null,
   "metadata": {},
   "outputs": [],
   "source": [
    "#print(group_df[[\"F1\",\"Precision\",\"Recall\"]].median().to_latex())\n",
    "#print(group_df[[\"Precision\"]].median().to_latex())\n",
    "#print(group_df[[\"Recall\",\"Precision\"]].median().to_latex())\n",
    "#\n",
    "print(group_df[[\"F1\",\"Precision\",\"Recall\"]].median())\n"
   ]
  },
  {
   "cell_type": "code",
   "execution_count": null,
   "metadata": {
    "collapsed": true
   },
   "outputs": [],
   "source": [
    "import seaborn as sns"
   ]
  },
  {
   "cell_type": "code",
   "execution_count": null,
   "metadata": {
    "collapsed": true,
    "scrolled": false
   },
   "outputs": [],
   "source": [
    "def plot_measure(measure_name,plot_name):\n",
    "    df = main_df.drop(columns=['Accuracy'])\n",
    "    new_dfs = []\n",
    "    \n",
    "    for source in source_datasets:\n",
    "        for target in target_datasets:\n",
    "            new_df = []\n",
    "            for model in [\"REPD\",\"REPDX\",\"TCA+\"]:#list(set(df.Model.values))\n",
    "                f1_scores = []\n",
    "                temp = df.loc[(df['Source'] == source) & (df['Target'] == target) & (df['Model'] == model)][measure_name].values\n",
    "                for value in temp:\n",
    "                    d = {\n",
    "                        'DatasetModel' : '{: <30}'.format(\", \".join([source, target, model])), measure_name : value\n",
    "                    }\n",
    "                    new_df.append(d)\n",
    "\n",
    "            new_df = pd.DataFrame(new_df)\n",
    "            new_dfs.append(new_df)\n",
    "    #Plotting prepared dataset\n",
    "    fig, axs = plt.subplots(25, 1, figsize=(64,128), sharex=True, sharey=\"row\", gridspec_kw={'hspace': 0.1})\n",
    "\n",
    "    font = {'size': 60}\n",
    "    matplotlib.rc('font', **font)\n",
    "    for n, new_df in enumerate(new_dfs):\n",
    "        ax=axs[n]\n",
    "        sns.violinplot(measure_name,'DatasetModel', data=new_df, ax = ax, scale=\"count\", cut=0)\n",
    "        #\n",
    "        yax = ax.get_yaxis()\n",
    "        yax.grid(True)\n",
    "        yax.set_ticks_position('right')\n",
    "        pad = max([len(i) for i in new_df['DatasetModel'].values])\n",
    "        yax.set_tick_params(pad=pad)\n",
    "        y_label = yax.get_label()\n",
    "        y_label.set_visible(False)\n",
    "        #\n",
    "        xax = ax.get_xaxis()\n",
    "        xax.grid(True)\n",
    "        x_label = xax.get_label()\n",
    "        x_label.set_visible(False)\n",
    "        #\n",
    "        ax.set_title(\"\")\n",
    "\n",
    "    fig.suptitle(measure_name)\n",
    "    st = fig.suptitle(measure_name, fontsize=\"x-large\")\n",
    "    st.set_y(0.95)\n",
    "    fig.subplots_adjust(top=0.93)\n",
    "    fig.tight_layout()\n",
    "    plt.tight_layout()\n",
    "    plt.savefig(plot_name,format='pdf',bbox_inches='tight')\n",
    "    plt.show()"
   ]
  },
  {
   "cell_type": "code",
   "execution_count": null,
   "metadata": {
    "scrolled": false
   },
   "outputs": [],
   "source": [
    "plot_measure(\"F1 score\",\"cross-f1.pdf\")"
   ]
  },
  {
   "cell_type": "code",
   "execution_count": null,
   "metadata": {
    "scrolled": false
   },
   "outputs": [],
   "source": [
    "plot_measure(\"Precision\",\"cross-precision.pdf\")"
   ]
  },
  {
   "cell_type": "code",
   "execution_count": null,
   "metadata": {
    "scrolled": false
   },
   "outputs": [],
   "source": [
    "plot_measure(\"Recall\",\"cross-recall.pdf\")"
   ]
  },
  {
   "cell_type": "code",
   "execution_count": null,
   "metadata": {
    "collapsed": true
   },
   "outputs": [],
   "source": []
  },
  {
   "cell_type": "code",
   "execution_count": null,
   "metadata": {
    "collapsed": true
   },
   "outputs": [],
   "source": []
  }
 ],
 "metadata": {
  "kernelspec": {
   "display_name": "Python 3",
   "language": "python",
   "name": "python3"
  },
  "language_info": {
   "codemirror_mode": {
    "name": "ipython",
    "version": 3
   },
   "file_extension": ".py",
   "mimetype": "text/x-python",
   "name": "python",
   "nbconvert_exporter": "python",
   "pygments_lexer": "ipython3",
   "version": "3.6.9"
  }
 },
 "nbformat": 4,
 "nbformat_minor": 2
}
